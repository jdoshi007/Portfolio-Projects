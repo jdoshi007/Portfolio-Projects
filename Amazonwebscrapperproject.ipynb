{
 "cells": [
  {
   "cell_type": "code",
   "execution_count": 1,
   "id": "a8ab0bd2-248b-48c4-b3fc-1f5f8017e7c9",
   "metadata": {},
   "outputs": [],
   "source": [
    "# import libraries \n",
    "\n",
    "from bs4 import BeautifulSoup\n",
    "import requests\n",
    "import time\n",
    "import datetime\n",
    "\n",
    "import smtplib\n"
   ]
  },
  {
   "cell_type": "code",
   "execution_count": 68,
   "id": "e45aebb2-bc7f-4dac-9a54-c10b393de5d2",
   "metadata": {},
   "outputs": [
    {
     "name": "stdout",
     "output_type": "stream",
     "text": [
      "Product Title: Got Data Funny Business Data Analyst T-Shirt\n",
      "Price: 15.99\n"
     ]
    }
   ],
   "source": [
    "import requests\n",
    "from bs4 import BeautifulSoup\n",
    "\n",
    "# Amazon product URL\n",
    "URL = 'https://www.amazon.com/Funny-Data-Systems-Business-Analyst/dp/B07FNW9FGJ/'\n",
    "\n",
    "# Headers to mimic a real browser request\n",
    "headers = {\n",
    "    \"User-Agent\": \"Mozilla/5.0 (Windows NT 10.0; Win64; x64) AppleWebKit/537.36 (KHTML, like Gecko) Chrome/110.0.0.0 Safari/537.36\",\n",
    "    \"Accept-Encoding\": \"gzip, deflate\",\n",
    "    \"Accept\": \"text/html,application/xhtml+xml,application/xml;q=0.9,*/*;q=0.8\",\n",
    "    \"DNT\": \"1\",\n",
    "    \"Connection\": \"close\",\n",
    "    \"Upgrade-Insecure-Requests\": \"1\"\n",
    "}\n",
    "\n",
    "# Request the page\n",
    "page = requests.get(URL, headers=headers)\n",
    "\n",
    "# Parse HTML\n",
    "soup = BeautifulSoup(page.content, \"html.parser\")\n",
    "\n",
    "# Extract product title\n",
    "try:\n",
    "    title = soup.find(\"span\", {\"id\": \"productTitle\"}).get_text(strip=True)\n",
    "except AttributeError:\n",
    "    title = \"Title not found\"\n",
    "\n",
    "# Extract price (search within the price div for actual value)\n",
    "try:\n",
    "    price_div = soup.find(\"div\", {\"id\": \"corePriceDisplay_desktop_feature_div\"})\n",
    "except AttributeError:\n",
    "    price = \"Price not found\"\n",
    "\n",
    "print(f\"Product Title: {title}\")\n",
    "print(f\"Price: {price}\")\n"
   ]
  },
  {
   "cell_type": "code",
   "execution_count": 65,
   "id": "9a7b7f09-523d-43e8-9789-ea6d2a85dc5b",
   "metadata": {},
   "outputs": [
    {
     "name": "stdout",
     "output_type": "stream",
     "text": [
      "Got Data Funny Business Data Analyst T-Shirt\n",
      "15.99\n"
     ]
    }
   ],
   "source": [
    "# Connect to Website and pull in data\n",
    "\n",
    "URL = 'https://www.amazon.com/Funny-Data-Systems-Business-Analyst/dp/B07FNW9FGJ/ref=sr_1_3?dchild=1&keywords=data%2Banalyst%2Btshirt&qid=1626655184&sr=8-3&customId=B0752XJYNL&th=1'\n",
    "\n",
    "headers = {\"User-Agent\": \"Mozilla/5.0 (Windows NT 10.0; Win64; x64) AppleWebKit/537.36 (KHTML, like Gecko) Chrome/78.0.3904.108 Safari/537.36\", \"Accept-Encoding\":\"gzip, deflate\", \"Accept\":\"text/html,application/xhtml+xml,application/xml;q=0.9,*/*;q=0.8\", \"DNT\":\"1\",\"Connection\":\"close\", \"Upgrade-Insecure-Requests\":\"1\"}\n",
    "\n",
    "page = requests.get(URL, headers=headers)\n",
    "\n",
    "soup1 = BeautifulSoup(page.content, \"html.parser\")\n",
    "\n",
    "soup2 = BeautifulSoup(soup1.prettify(), \"html.parser\")\n",
    "\n",
    "title = soup2.find(id='productTitle').get_text()\n",
    "\n",
    "price = soup2.find(id= 'corePriceDisplay_desktop_feature_div').get_text()\n",
    "\n",
    "\n",
    "price = price.strip()[1:6]\n",
    "title = title.strip()\n",
    "\n",
    "print(title)\n",
    "print(price)"
   ]
  },
  {
   "cell_type": "code",
   "execution_count": 48,
   "id": "0dbffb23-9733-4eae-bca3-5ca0430d3eab",
   "metadata": {},
   "outputs": [
    {
     "name": "stdout",
     "output_type": "stream",
     "text": [
      "2025-02-13\n"
     ]
    }
   ],
   "source": [
    "# Create a Timestamp for your output to track when data was collected\n",
    "\n",
    "import datetime\n",
    "\n",
    "today = datetime.date.today()\n",
    "\n",
    "print(today)\n"
   ]
  },
  {
   "cell_type": "code",
   "execution_count": 70,
   "id": "ffd01c6d-bbfd-43e6-a11c-d9bb006e7f19",
   "metadata": {},
   "outputs": [
    {
     "name": "stdout",
     "output_type": "stream",
     "text": [
      "                                           Title  \\\n",
      "0   Got Data Funny Business Data Analyst T-Shirt   \n",
      "1   Got Data Funny Business Data Analyst T-Shirt   \n",
      "2   Got Data Funny Business Data Analyst T-Shirt   \n",
      "3   Got Data Funny Business Data Analyst T-Shirt   \n",
      "4   Got Data Funny Business Data Analyst T-Shirt   \n",
      "5   Got Data Funny Business Data Analyst T-Shirt   \n",
      "6   Got Data Funny Business Data Analyst T-Shirt   \n",
      "7   Got Data Funny Business Data Analyst T-Shirt   \n",
      "8   Got Data Funny Business Data Analyst T-Shirt   \n",
      "9   Got Data Funny Business Data Analyst T-Shirt   \n",
      "10  Got Data Funny Business Data Analyst T-Shirt   \n",
      "11  Got Data Funny Business Data Analyst T-Shirt   \n",
      "12  Got Data Funny Business Data Analyst T-Shirt   \n",
      "13  Got Data Funny Business Data Analyst T-Shirt   \n",
      "14  Got Data Funny Business Data Analyst T-Shirt   \n",
      "\n",
      "                                                Price        Date  \n",
      "0                                                 NaN  2025-02-13  \n",
      "1                                                 NaN  2025-02-13  \n",
      "2                                                 NaN  2025-02-13  \n",
      "3   15.99\\n                   \\n\\n\\n\\n\\n\\n        ...  2025-02-13  \n",
      "4   15.99\\n                   \\n\\n\\n\\n\\n\\n        ...  2025-02-13  \n",
      "5   15.99\\n                   \\n\\n\\n\\n\\n\\n        ...  2025-02-13  \n",
      "6   15.99\\n                   \\n\\n\\n\\n\\n\\n        ...  2025-02-13  \n",
      "7   15.99\\n                   \\n\\n\\n\\n\\n\\n        ...  2025-02-13  \n",
      "8   15.99\\n                   \\n\\n\\n\\n\\n\\n        ...  2025-02-13  \n",
      "9   15.99\\n                   \\n\\n\\n\\n\\n\\n        ...  2025-02-13  \n",
      "10  15.99\\n                   \\n\\n\\n\\n\\n\\n        ...  2025-02-13  \n",
      "11  15.99\\n                   \\n\\n\\n\\n\\n\\n        ...  2025-02-13  \n",
      "12  15.99\\n                   \\n\\n\\n\\n\\n\\n        ...  2025-02-13  \n",
      "13  15.99\\n                   \\n\\n\\n\\n\\n\\n        ...  2025-02-13  \n",
      "14  15.99\\n                   \\n\\n\\n\\n\\n\\n        ...  2025-02-13  \n"
     ]
    }
   ],
   "source": [
    "import pandas as pd\n",
    "\n",
    "df = pd.read_csv(r'C:\\Users\\jashd\\AmazonWebScraperDataset.csv')\n",
    "\n",
    "print(df)\n",
    "\n"
   ]
  },
  {
   "cell_type": "code",
   "execution_count": null,
   "id": "1305755e-2fd2-49a0-a29e-744e0dee0e5b",
   "metadata": {},
   "outputs": [],
   "source": [
    "#Now we are appending data to the csv\n",
    "\n",
    "with open('AmazonWebScraperDataset.csv', 'a+', newline='', encoding='UTF8') as f:\n",
    "    writer = csv.writer(f)\n",
    "    writer.writerow(data)"
   ]
  },
  {
   "cell_type": "code",
   "execution_count": 38,
   "id": "063e8c32-11f2-4807-843a-0809bd4b80ad",
   "metadata": {},
   "outputs": [],
   "source": [
    "#Combine all of the above code into one function\n",
    "\n",
    "\n",
    "def check_price():\n",
    "    URL = 'https://www.amazon.com/Funny-Data-Systems-Business-Analyst/dp/B07FNW9FGJ/ref=sr_1_3?dchild=1&keywords=data%2Banalyst%2Btshirt&qid=1626655184&sr=8-3&customId=B0752XJYNL&th=1'\n",
    "\n",
    "    headers = {\"User-Agent\": \"Mozilla/5.0 (Windows NT 10.0; Win64; x64) AppleWebKit/537.36 (KHTML, like Gecko) Chrome/78.0.3904.108 Safari/537.36\", \"Accept-Encoding\":\"gzip, deflate\", \"Accept\":\"text/html,application/xhtml+xml,application/xml;q=0.9,*/*;q=0.8\", \"DNT\":\"1\",\"Connection\":\"close\", \"Upgrade-Insecure-Requests\":\"1\"}\n",
    "\n",
    "    page = requests.get(URL, headers=headers)\n",
    "\n",
    "    soup1 = BeautifulSoup(page.content, \"html.parser\")\n",
    "\n",
    "    soup2 = BeautifulSoup(soup1.prettify(), \"html.parser\")\n",
    "\n",
    "    title = soup2.find(id='productTitle').get_text()\n",
    "\n",
    "    price = soup2.find(id= 'corePriceDisplay_desktop_feature_div').get_text()\n",
    "\n",
    "    price = price.strip()[1:]\n",
    "    title = title.strip()\n",
    "\n",
    "    import datetime\n",
    "\n",
    "    today = datetime.date.today()\n",
    "    \n",
    "    import csv \n",
    "\n",
    "    header = ['Title', 'Price', 'Date']\n",
    "    data = [title, price, today]\n",
    "\n",
    "    with open('AmazonWebScraperDataset.csv', 'a+', newline='', encoding='UTF8') as f:\n",
    "        writer = csv.writer(f)\n",
    "        writer.writerow(data)\n",
    "\n",
    "        if (price < 14):\n",
    "            send_mail()\n",
    " \n",
    "    "
   ]
  },
  {
   "cell_type": "code",
   "execution_count": null,
   "id": "a2017629-763d-409d-8107-5030a4f71b3e",
   "metadata": {},
   "outputs": [],
   "source": [
    "# Runs check_price after a set time and inputs data into your CSV\n",
    "\n",
    "while(True):\n",
    "    check_price()\n",
    "    time.sleep(100000)"
   ]
  },
  {
   "cell_type": "code",
   "execution_count": null,
   "id": "979e6978-1827-4c70-935f-21bcbfb260a3",
   "metadata": {},
   "outputs": [],
   "source": [
    "import pandas as pd\n",
    "\n",
    "df = pd.read_csv(r'C:\\Users\\jashd\\AmazonWebScraperDataset.csv')\n",
    "\n",
    "print(df)"
   ]
  },
  {
   "cell_type": "code",
   "execution_count": null,
   "id": "f2dba9fc-10eb-4bf1-8e9d-877f7c20a3d3",
   "metadata": {},
   "outputs": [],
   "source": [
    "# This code is for if the price of the t-shirt falls below 14 dollars. I get a mail to notify me about it\n",
    "\n",
    "def send_mail():\n",
    "    server = smtplib.SMTP_SSL('smtp.gmail.com',465)\n",
    "    server.ehlo()\n",
    "    #server.starttls()\n",
    "    server.ehlo()\n",
    "    server.login('jashdoshi10@gmail.com','xxxxxxxxxxxxxx')\n",
    "    \n",
    "    subject = \"The Shirt you want is below $14! Now is your chance to buy!\"\n",
    "    body = \"Jash, This is the moment we have been waiting for. Now is your chance to pick up the shirt of your dreams. Don't mess it up! Link here: https://www.amazon.com/Funny-Data-Systems-Business-Analyst/dp/B07FNW9FGJ/ref=sr_1_3?dchild=1&keywords=data+analyst+tshirt&qid=1626655184&sr=8-3\"\n",
    "   \n",
    "    msg = f\"Subject: {subject}\\n\\n{body}\"\n",
    "    \n",
    "    server.sendmail(\n",
    "        'Jashdoshi10@gmail.com',\n",
    "        msg\n",
    "     \n",
    "    )"
   ]
  }
 ],
 "metadata": {
  "kernelspec": {
   "display_name": "Python [conda env:base] *",
   "language": "python",
   "name": "conda-base-py"
  },
  "language_info": {
   "codemirror_mode": {
    "name": "ipython",
    "version": 3
   },
   "file_extension": ".py",
   "mimetype": "text/x-python",
   "name": "python",
   "nbconvert_exporter": "python",
   "pygments_lexer": "ipython3",
   "version": "3.12.7"
  }
 },
 "nbformat": 4,
 "nbformat_minor": 5
}
